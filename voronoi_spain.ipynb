{
 "cells": [
  {
   "cell_type": "code",
   "execution_count": 1,
   "id": "familiar-qatar",
   "metadata": {
    "collapsed": true
   },
   "outputs": [
    {
     "name": "stdout",
     "output_type": "stream",
     "text": [
      "Collecting geovoronoi[plotting]\n",
      "  Using cached geovoronoi-0.4.0-py3-none-any.whl (21 kB)\n",
      "Requirement already satisfied: scipy>=1.5.0 in /Users/xuanzheng/opt/anaconda3/lib/python3.9/site-packages (from geovoronoi[plotting]) (1.7.1)\n",
      "Requirement already satisfied: numpy>=1.19.0 in /Users/xuanzheng/opt/anaconda3/lib/python3.9/site-packages (from geovoronoi[plotting]) (1.20.3)\n",
      "Collecting shapely>=1.7.0\n",
      "  Downloading Shapely-1.8.1.post1-cp39-cp39-macosx_10_9_x86_64.whl (1.2 MB)\n",
      "\u001b[K     |████████████████████████████████| 1.2 MB 3.0 MB/s eta 0:00:01\n",
      "\u001b[?25hCollecting geopandas>=0.8.0\n",
      "  Using cached geopandas-0.10.2-py2.py3-none-any.whl (1.0 MB)\n",
      "Requirement already satisfied: matplotlib>=3.3.0 in /Users/xuanzheng/opt/anaconda3/lib/python3.9/site-packages (from geovoronoi[plotting]) (3.4.3)\n",
      "Collecting descartes>=1.1.0\n",
      "  Using cached descartes-1.1.0-py3-none-any.whl (5.8 kB)\n",
      "Collecting pyproj>=2.2.0\n",
      "  Downloading pyproj-3.3.0-cp39-cp39-macosx_10_9_x86_64.whl (7.7 MB)\n",
      "\u001b[K     |████████████████████████████████| 7.7 MB 22.7 MB/s eta 0:00:01\n",
      "\u001b[?25hCollecting fiona>=1.8\n",
      "  Downloading Fiona-1.8.21-cp39-cp39-macosx_10_10_x86_64.whl (18.5 MB)\n",
      "\u001b[K     |████████████████████████████████| 18.5 MB 20.5 MB/s eta 0:00:01\n",
      "\u001b[?25hRequirement already satisfied: pandas>=0.25.0 in /Users/xuanzheng/opt/anaconda3/lib/python3.9/site-packages (from geopandas>=0.8.0->geovoronoi[plotting]) (1.3.4)\n",
      "Requirement already satisfied: click>=4.0 in /Users/xuanzheng/opt/anaconda3/lib/python3.9/site-packages (from fiona>=1.8->geopandas>=0.8.0->geovoronoi[plotting]) (8.0.3)\n",
      "Requirement already satisfied: attrs>=17 in /Users/xuanzheng/opt/anaconda3/lib/python3.9/site-packages (from fiona>=1.8->geopandas>=0.8.0->geovoronoi[plotting]) (21.2.0)\n",
      "Requirement already satisfied: setuptools in /Users/xuanzheng/opt/anaconda3/lib/python3.9/site-packages (from fiona>=1.8->geopandas>=0.8.0->geovoronoi[plotting]) (58.0.4)\n",
      "Requirement already satisfied: certifi in /Users/xuanzheng/opt/anaconda3/lib/python3.9/site-packages (from fiona>=1.8->geopandas>=0.8.0->geovoronoi[plotting]) (2021.10.8)\n",
      "Requirement already satisfied: six>=1.7 in /Users/xuanzheng/opt/anaconda3/lib/python3.9/site-packages (from fiona>=1.8->geopandas>=0.8.0->geovoronoi[plotting]) (1.16.0)\n",
      "Collecting cligj>=0.5\n",
      "  Using cached cligj-0.7.2-py3-none-any.whl (7.1 kB)\n",
      "Collecting munch\n",
      "  Using cached munch-2.5.0-py2.py3-none-any.whl (10 kB)\n",
      "Collecting click-plugins>=1.0\n",
      "  Using cached click_plugins-1.1.1-py2.py3-none-any.whl (7.5 kB)\n",
      "Requirement already satisfied: cycler>=0.10 in /Users/xuanzheng/opt/anaconda3/lib/python3.9/site-packages (from matplotlib>=3.3.0->geovoronoi[plotting]) (0.10.0)\n",
      "Requirement already satisfied: kiwisolver>=1.0.1 in /Users/xuanzheng/opt/anaconda3/lib/python3.9/site-packages (from matplotlib>=3.3.0->geovoronoi[plotting]) (1.3.1)\n",
      "Requirement already satisfied: pillow>=6.2.0 in /Users/xuanzheng/opt/anaconda3/lib/python3.9/site-packages (from matplotlib>=3.3.0->geovoronoi[plotting]) (8.4.0)\n",
      "Requirement already satisfied: pyparsing>=2.2.1 in /Users/xuanzheng/opt/anaconda3/lib/python3.9/site-packages (from matplotlib>=3.3.0->geovoronoi[plotting]) (3.0.4)\n",
      "Requirement already satisfied: python-dateutil>=2.7 in /Users/xuanzheng/opt/anaconda3/lib/python3.9/site-packages (from matplotlib>=3.3.0->geovoronoi[plotting]) (2.8.2)\n",
      "Requirement already satisfied: pytz>=2017.3 in /Users/xuanzheng/opt/anaconda3/lib/python3.9/site-packages (from pandas>=0.25.0->geopandas>=0.8.0->geovoronoi[plotting]) (2021.3)\n",
      "Installing collected packages: munch, cligj, click-plugins, shapely, pyproj, fiona, geovoronoi, geopandas, descartes\n",
      "Successfully installed click-plugins-1.1.1 cligj-0.7.2 descartes-1.1.0 fiona-1.8.21 geopandas-0.10.2 geovoronoi-0.4.0 munch-2.5.0 pyproj-3.3.0 shapely-1.8.1.post1\n"
     ]
    }
   ],
   "source": [
    "!pip install -U geovoronoi[plotting]"
   ]
  },
  {
   "cell_type": "code",
   "execution_count": 2,
   "id": "da92ac5f",
   "metadata": {
    "collapsed": true
   },
   "outputs": [
    {
     "name": "stdout",
     "output_type": "stream",
     "text": [
      "Requirement already satisfied: shapely in /Users/xuanzheng/opt/anaconda3/lib/python3.9/site-packages (1.8.1.post1)\r\n"
     ]
    }
   ],
   "source": [
    "!pip install shapely"
   ]
  },
  {
   "cell_type": "code",
   "execution_count": 3,
   "id": "32fe55d1",
   "metadata": {
    "collapsed": true
   },
   "outputs": [
    {
     "name": "stdout",
     "output_type": "stream",
     "text": [
      "Requirement already satisfied: geopandas in /Users/xuanzheng/opt/anaconda3/lib/python3.9/site-packages (0.10.2)\n",
      "Requirement already satisfied: fiona>=1.8 in /Users/xuanzheng/opt/anaconda3/lib/python3.9/site-packages (from geopandas) (1.8.21)\n",
      "Requirement already satisfied: shapely>=1.6 in /Users/xuanzheng/opt/anaconda3/lib/python3.9/site-packages (from geopandas) (1.8.1.post1)\n",
      "Requirement already satisfied: pyproj>=2.2.0 in /Users/xuanzheng/opt/anaconda3/lib/python3.9/site-packages (from geopandas) (3.3.0)\n",
      "Requirement already satisfied: pandas>=0.25.0 in /Users/xuanzheng/opt/anaconda3/lib/python3.9/site-packages (from geopandas) (1.3.4)\n",
      "Requirement already satisfied: six>=1.7 in /Users/xuanzheng/opt/anaconda3/lib/python3.9/site-packages (from fiona>=1.8->geopandas) (1.16.0)\n",
      "Requirement already satisfied: cligj>=0.5 in /Users/xuanzheng/opt/anaconda3/lib/python3.9/site-packages (from fiona>=1.8->geopandas) (0.7.2)\n",
      "Requirement already satisfied: munch in /Users/xuanzheng/opt/anaconda3/lib/python3.9/site-packages (from fiona>=1.8->geopandas) (2.5.0)\n",
      "Requirement already satisfied: click>=4.0 in /Users/xuanzheng/opt/anaconda3/lib/python3.9/site-packages (from fiona>=1.8->geopandas) (8.0.3)\n",
      "Requirement already satisfied: certifi in /Users/xuanzheng/opt/anaconda3/lib/python3.9/site-packages (from fiona>=1.8->geopandas) (2021.10.8)\n",
      "Requirement already satisfied: attrs>=17 in /Users/xuanzheng/opt/anaconda3/lib/python3.9/site-packages (from fiona>=1.8->geopandas) (21.2.0)\n",
      "Requirement already satisfied: click-plugins>=1.0 in /Users/xuanzheng/opt/anaconda3/lib/python3.9/site-packages (from fiona>=1.8->geopandas) (1.1.1)\n",
      "Requirement already satisfied: setuptools in /Users/xuanzheng/opt/anaconda3/lib/python3.9/site-packages (from fiona>=1.8->geopandas) (58.0.4)\n",
      "Requirement already satisfied: python-dateutil>=2.7.3 in /Users/xuanzheng/opt/anaconda3/lib/python3.9/site-packages (from pandas>=0.25.0->geopandas) (2.8.2)\n",
      "Requirement already satisfied: pytz>=2017.3 in /Users/xuanzheng/opt/anaconda3/lib/python3.9/site-packages (from pandas>=0.25.0->geopandas) (2021.3)\n",
      "Requirement already satisfied: numpy>=1.17.3 in /Users/xuanzheng/opt/anaconda3/lib/python3.9/site-packages (from pandas>=0.25.0->geopandas) (1.20.3)\n"
     ]
    }
   ],
   "source": [
    "#!conda install -c conda-forge -y geopandas\n",
    "!pip install geopandas"
   ]
  },
  {
   "cell_type": "code",
   "execution_count": 4,
   "id": "backed-sapphire",
   "metadata": {},
   "outputs": [],
   "source": [
    "from shapely.geometry import box\n",
    "from geovoronoi import voronoi_regions_from_coords as vrfc\n",
    "import matplotlib.pyplot as plt\n",
    "import pandas as pd\n",
    "import geopandas as gpd"
   ]
  },
  {
   "cell_type": "code",
   "execution_count": 109,
   "id": "proprietary-reduction",
   "metadata": {},
   "outputs": [],
   "source": [
    "world = gpd.read_file(gpd.datasets.get_path('naturalearth_lowres'))\n",
    "area = world[world.name == 'Spain']\n",
    "\n",
    "area = area.to_crs(epsg=4258)\n",
    "area_shape = area.iloc[0].geometry   # get the Polygon."
   ]
  },
  {
   "cell_type": "code",
   "execution_count": 111,
   "id": "3d3b37e8",
   "metadata": {},
   "outputs": [],
   "source": [
    "df = pd.read_csv ('capital.csv')\n",
    "df = df[['Lon ETRS89','Lat ETRS89']]"
   ]
  },
  {
   "cell_type": "code",
   "execution_count": 112,
   "id": "216401f2",
   "metadata": {},
   "outputs": [],
   "source": [
    "coords = df.to_numpy()"
   ]
  },
  {
   "cell_type": "code",
   "execution_count": 113,
   "id": "a8f912e2",
   "metadata": {},
   "outputs": [],
   "source": [
    "from geovoronoi import voronoi_regions_from_coords\n",
    "\n",
    "region_polys, region_pts = voronoi_regions_from_coords(coords, area_shape)"
   ]
  },
  {
   "cell_type": "code",
   "execution_count": 114,
   "id": "1273f841",
   "metadata": {},
   "outputs": [
    {
     "name": "stderr",
     "output_type": "stream",
     "text": [
      "/Users/xuanzheng/opt/anaconda3/lib/python3.9/site-packages/descartes/patch.py:63: ShapelyDeprecationWarning: The array interface is deprecated and will no longer work in Shapely 2.0. Convert the '.coords' to a numpy array instead.\n",
      "  concatenate([asarray(t.exterior)[:, :2]] +\n",
      "/Users/xuanzheng/opt/anaconda3/lib/python3.9/site-packages/descartes/patch.py:63: ShapelyDeprecationWarning: The array interface is deprecated and will no longer work in Shapely 2.0. Convert the '.coords' to a numpy array instead.\n",
      "  concatenate([asarray(t.exterior)[:, :2]] +\n"
     ]
    },
    {
     "data": {
      "image/png": "[encoded data removed]",
      "text/plain": [
       "<Figure size 432x288 with 1 Axes>"
      ]
     },
     "metadata": {
      "needs_background": "light"
     },
     "output_type": "display_data"
    }
   ],
   "source": [
    "import matplotlib.pyplot as plt\n",
    "from geovoronoi.plotting import subplot_for_map, plot_voronoi_polys_with_points_in_area\n",
    "\n",
    "fig, ax = subplot_for_map()\n",
    "plot_voronoi_polys_with_points_in_area(ax, area_shape, region_polys, coords, region_pts)\n",
    "plt.show()"
   ]
  }
 ],
 "metadata": {
  "kernelspec": {
   "display_name": "Python 3 (ipykernel)",
   "language": "python",
   "name": "python3"
  },
  "language_info": {
   "codemirror_mode": {
    "name": "ipython",
    "version": 3
   },
   "file_extension": ".py",
   "mimetype": "text/x-python",
   "name": "python",
   "nbconvert_exporter": "python",
   "pygments_lexer": "ipython3",
   "version": "3.9.7"
  }
 },
 "nbformat": 4,
 "nbformat_minor": 5
}
